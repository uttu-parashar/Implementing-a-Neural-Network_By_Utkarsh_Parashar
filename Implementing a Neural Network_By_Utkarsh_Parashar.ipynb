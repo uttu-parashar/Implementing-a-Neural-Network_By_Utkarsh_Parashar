{
 "cells": [
  {
   "cell_type": "markdown",
   "metadata": {},
   "source": [
    "# The Neural Network ,That i'll implement is Shown Bellow in Image :"
   ]
  },
  {
   "cell_type": "markdown",
   "metadata": {
    "colab_type": "text",
    "id": "nREnTTJ3i0Vd"
   },
   "source": [
    "<img src='https://i.imgur.com/seSGbNS.png'>"
   ]
  },
  {
   "cell_type": "markdown",
   "metadata": {},
   "source": [
    "### What It Need's To Implement a Neural Network. "
   ]
  },
  {
   "cell_type": "markdown",
   "metadata": {},
   "source": [
    "* Implemnting A Neural Network Mailny Consists 3 Parts :::"
   ]
  },
  {
   "cell_type": "markdown",
   "metadata": {},
   "source": [
    "1. Implement ForWard Propagation."
   ]
  },
  {
   "cell_type": "markdown",
   "metadata": {},
   "source": [
    "2. Implemnt BackWord Propagation."
   ]
  },
  {
   "cell_type": "markdown",
   "metadata": {},
   "source": [
    "3. Implement The Optimizers For Your Neural Network. Here We will Implement 3 types of Optimizers.\n",
    "                 * Gradient Descent \n",
    "                 * Gradient Descent With Momentum\n",
    "                 * Adam Optimizer"
   ]
  },
  {
   "cell_type": "markdown",
   "metadata": {},
   "source": [
    "### Let's Load the Data First : "
   ]
  },
  {
   "cell_type": "code",
   "execution_count": null,
   "metadata": {},
   "outputs": [],
   "source": [
    "import pickle\n",
    "import numpy as np\n",
    "from tqdm.notebook import tqdm\n",
    "import matplotlib.pyplot as plt\n",
    "import pandas as pd\n",
    "\n",
    "with open('data.pkl', 'rb') as f:\n",
    "    data = pickle.load(f)\n",
    "print(data.shape)\n",
    "X = data[:, :5]\n",
    "y = data[:, -1]\n",
    "print(X.shape, y.shape)"
   ]
  },
  {
   "cell_type": "markdown",
   "metadata": {
    "colab_type": "text",
    "id": "QfmV3FUgSrBo"
   },
   "source": [
    "## Part-1 : Forward propagation"
   ]
  },
  {
   "cell_type": "code",
   "execution_count": 22,
   "metadata": {},
   "outputs": [],
   "source": [
    "def sigmoid(z):\n",
    "    return 1 / (1+ np.exp(-z))"
   ]
  },
  {
   "cell_type": "code",
   "execution_count": 23,
   "metadata": {},
   "outputs": [],
   "source": [
    "def forward_propagation(x,y,w):\n",
    "    \n",
    "    a = w[0]*x[0]\n",
    "    b = w[1]*x[1]\n",
    "    c = a+b\n",
    "    d = a+b\n",
    "    e = c*d\n",
    "    f = w[5]+e\n",
    "    exp = np.exp(f)\n",
    "    \n",
    "    g = exp + w[6]\n",
    "    tanh = np.tanh(g)\n",
    "    \n",
    "    h = np.sin((w[2]*x[2]))\n",
    "    i = (w[3]*x[3]) + (w[4]*x[4])\n",
    "    j = h*i\n",
    "    k = (w[7]+j)\n",
    "    sigh = sigmoid(k)\n",
    "    \n",
    "    # y^ computation\n",
    "    l = w[8]*sigh\n",
    "    y_hat = tanh + l\n",
    "    # Computing loss\n",
    "    loss = (y_hat - y)**2\n",
    "    # compute derivative of L  w.r.to Y' and storing it in dl\n",
    "    dl = 2*(y_hat - y)\n",
    "    # Creating dictionary\n",
    "    dict_ = {\"dl\": dl , \"loss\":loss , \"exp\":exp , \"tanh\":tanh , \"sigmoid\":sigh}\n",
    "    \n",
    "    return dict_"
   ]
  },
  {
   "cell_type": "markdown",
   "metadata": {
    "colab_type": "text",
    "id": "obOaAqj3Sxvb"
   },
   "source": [
    "## Part-2 : Backward Propagation"
   ]
  },
  {
   "cell_type": "code",
   "execution_count": 26,
   "metadata": {},
   "outputs": [],
   "source": [
    "def backward_propagation(x,W,dict_):\n",
    "    dw9 = ((dict_.get(\"dl\"))*dict_.get(\"sigmoid\")*1)\n",
    "    dw8 = ((dict_.get(\"dl\"))*(w[8])*(dict_.get(\"sigmoid\")*(1-(dict_.get(\"sigmoid\")))))\n",
    "    dw7 = ((dict_.get(\"dl\"))*(1-(dict_.get(\"tanh\")**2)))\n",
    "    dw6 = ((dict_.get(\"dl\"))*(1-(dict_.get(\"tanh\")**2)))*(dict_.get(\"exp\"))\n",
    "    dw5 = ((dw8)*(np.sin((w[2]*x[2])))*(x[4]))\n",
    "    dw4 = ((dw8)*(np.sin((w[2]*x[2])))*(x[3]))\n",
    "    dw3 = ((dw8)*((x[3]*w[3])+(x[4]*w[4]))*(np.cos((w[2]*x[2])))*(x[2]))\n",
    "    dw2 = ((dict_.get(\"dl\")*(1-((dict_.get(\"tanh\"))**2))*(dict_.get(\"exp\"))*(2*((w[0]*x[0])+(w[1]*x[1])))*(x[1])))\n",
    "    dw1 = ((dict_.get(\"dl\")*(1-((dict_.get(\"tanh\"))**2))*(dict_.get(\"exp\"))*(2*((w[0]*x[0])+(w[1]*x[1])))*(x[0])))\n",
    "    \n",
    "    dervt_dict = {\"dw1\":dw1 , \"dw2\": dw2, \"dw3\": dw3, \"dw4\": dw4, \"dw5\":dw5 , \n",
    "                      \"dw6\":dw6 , \"dw7\":dw7 , \"dw8\":dw8 , \"dw9\":dw9 }\n",
    "    \n",
    "    return dervt_dict"
   ]
  },
  {
   "cell_type": "markdown",
   "metadata": {
    "colab_type": "text",
    "id": "MhwDSe99kJ32"
   },
   "source": [
    "## Part-3 : Implementing Diffrent Deep Learning Optimizers."
   ]
  },
  {
   "cell_type": "markdown",
   "metadata": {
    "colab_type": "text",
    "id": "jJzI-vnPk1dB"
   },
   "source": [
    "### <font color='green'>1. Gradient Decent.</font>"
   ]
  },
  {
   "cell_type": "code",
   "execution_count": 31,
   "metadata": {
    "colab": {},
    "colab_type": "code",
    "id": "xJspU6ZuGhRQ"
   },
   "outputs": [
    {
     "name": "stderr",
     "output_type": "stream",
     "text": [
      "100%|████████████████████████████████████████████████████████████████████████████████| 100/100 [00:04<00:00, 20.07it/s]\n"
     ]
    }
   ],
   "source": [
    "from tqdm import tqdm\n",
    "learning_rate = 0.01\n",
    "W = np.random.normal(loc=0.0, scale=0.1, size=9)\n",
    "epochs = list(i for i in range(100))\n",
    "epoch_losses = []\n",
    "for epoch in tqdm(epochs):\n",
    "    loss = 0 \n",
    "    for data_point_index in range(len(X)):\n",
    "        dict1 = forward_propagation(X[data_point_index],y[data_point_index],W)\n",
    "        dws_dict =  backward_propagation(X[data_point_index],W,dict1)\n",
    "        old_weights_derivatives = [dws_dict.get(i) for i in dws_dict]\n",
    "        # getting loss with current weights\n",
    "        loss = loss + (dict1.get(\"loss\"))\n",
    "        # updating weights\n",
    "        \n",
    "        w1 = ((W[0]) - (learning_rate*(old_weights_derivatives[0])))\n",
    "        w2 = ((W[1]) - (learning_rate*(old_weights_derivatives[1])))\n",
    "        w3 = ((W[2]) - (learning_rate*(old_weights_derivatives[2])))\n",
    "        w4 = ((W[3]) - (learning_rate*(old_weights_derivatives[3])))\n",
    "        w5 = ((W[4]) - (learning_rate*(old_weights_derivatives[4])))\n",
    "        w6 = ((W[5]) - (learning_rate*(old_weights_derivatives[5])))\n",
    "        w7 = ((W[6]) - (learning_rate*(old_weights_derivatives[6])))\n",
    "        w8 = ((W[7]) - (learning_rate*(old_weights_derivatives[7])))\n",
    "        w9 = ((W[8]) - (learning_rate*(old_weights_derivatives[8])))\n",
    "        \n",
    "        W = [w1,w2,w3,w4,w5,w6,w7,w8,w9]\n",
    "        \n",
    "    epoch_losses.append((loss/len(X)))"
   ]
  },
  {
   "cell_type": "code",
   "execution_count": 32,
   "metadata": {
    "colab": {},
    "colab_type": "code",
    "id": "CjTCVUIoGhTo"
   },
   "outputs": [
    {
     "data": {
      "text/plain": [
       "<function matplotlib.pyplot.show(*args, **kw)>"
      ]
     },
     "execution_count": 32,
     "metadata": {},
     "output_type": "execute_result"
    },
    {
     "data": {
      "image/png": "[encoded data removed]",
      "text/plain": [
       "<Figure size 432x288 with 1 Axes>"
      ]
     },
     "metadata": {
      "needs_background": "light"
     },
     "output_type": "display_data"
    }
   ],
   "source": [
    "# Plot between epochs and loss\n",
    "import matplotlib.pyplot as plt\n",
    "\n",
    "plt.grid()\n",
    "plt.plot(epochs,epoch_losses)\n",
    "plt.title(\"Epoch vs loss plot\")\n",
    "plt.xlabel(\"Epochs\")\n",
    "plt.ylabel(\"loss\")\n",
    "plt.show"
   ]
  },
  {
   "cell_type": "markdown",
   "metadata": {
    "colab_type": "text",
    "id": "cv_hZFWalS2z"
   },
   "source": [
    "### <font color='green'>2. Gradient Decent with Momentum.</font>"
   ]
  },
  {
   "cell_type": "code",
   "execution_count": 33,
   "metadata": {
    "colab": {},
    "colab_type": "code",
    "id": "uucCdyQrGhZt"
   },
   "outputs": [],
   "source": [
    "def get_vt(old_derivative_list):\n",
    "    learning_rate = 0.01\n",
    "    lambdaa = 0.9\n",
    "    old_derivative_list.reverse()\n",
    "    vt = 0\n",
    "    for i in range(len(old_derivative_list)):\n",
    "        vt = vt + ((lambdaa**i)* (learning_rate*old_derivative_list[i]))\n",
    "        \n",
    "    return vt"
   ]
  },
  {
   "cell_type": "code",
   "execution_count": 34,
   "metadata": {},
   "outputs": [
    {
     "name": "stderr",
     "output_type": "stream",
     "text": [
      "100%|████████████████████████████████████████████████████████████████████████████████| 100/100 [02:43<00:00,  1.64s/it]\n"
     ]
    }
   ],
   "source": [
    "from tqdm import tqdm\n",
    "learning_rate = 0.01\n",
    "W = np.random.normal(loc=0.0, scale=0.1, size=9)\n",
    "epochs = list(i for i in range(100))\n",
    "epoch_losses = []\n",
    "for epoch in tqdm(epochs):\n",
    "    loss = 0 \n",
    "    old_weights_derivatives_of_w1 = []\n",
    "    old_weights_derivatives_of_w2 = []\n",
    "    old_weights_derivatives_of_w3 = []\n",
    "    old_weights_derivatives_of_w4 = []\n",
    "    old_weights_derivatives_of_w5 = []\n",
    "    old_weights_derivatives_of_w6 = []\n",
    "    old_weights_derivatives_of_w7 = []\n",
    "    old_weights_derivatives_of_w8 = []\n",
    "    old_weights_derivatives_of_w9 = []\n",
    "    for data_point_index in range(len(X)):\n",
    "        dict1 = forward_propagation(X[data_point_index],y[data_point_index],W)\n",
    "        dws_dict =  backward_propagation(X[data_point_index],W,dict1)\n",
    "        old_weights_derivatives = [dws_dict.get(i) for i in dws_dict]\n",
    "        # getting loss with current weights\n",
    "        loss = loss + (dict1.get(\"loss\"))\n",
    "        # storing old derivatives weights\n",
    "        \n",
    "        old_weights_derivatives_of_w1.append(old_weights_derivatives[0])\n",
    "        old_weights_derivatives_of_w2.append(old_weights_derivatives[1])\n",
    "        old_weights_derivatives_of_w3.append(old_weights_derivatives[2])\n",
    "        old_weights_derivatives_of_w4.append(old_weights_derivatives[3])\n",
    "        old_weights_derivatives_of_w5.append(old_weights_derivatives[4])\n",
    "        old_weights_derivatives_of_w6.append(old_weights_derivatives[5])\n",
    "        old_weights_derivatives_of_w7.append(old_weights_derivatives[6])\n",
    "        old_weights_derivatives_of_w8.append(old_weights_derivatives[7])\n",
    "        old_weights_derivatives_of_w9.append(old_weights_derivatives[8])\n",
    "        \n",
    "        # updating weights\n",
    "        w1 = ((W[0]) - (get_vt(old_weights_derivatives_of_w1)))\n",
    "        w2 = ((W[1]) - (get_vt(old_weights_derivatives_of_w2)))\n",
    "        w3 = ((W[2]) - (get_vt(old_weights_derivatives_of_w3)))\n",
    "        w4 = ((W[3]) - (get_vt(old_weights_derivatives_of_w4)))\n",
    "        w5 = ((W[4]) - (get_vt(old_weights_derivatives_of_w5)))\n",
    "        w6 = ((W[5]) - (get_vt(old_weights_derivatives_of_w6)))\n",
    "        w7 = ((W[6]) - (get_vt(old_weights_derivatives_of_w7)))\n",
    "        w8 = ((W[7]) - (get_vt(old_weights_derivatives_of_w8)))\n",
    "        w9 = ((W[8]) - (get_vt(old_weights_derivatives_of_w9)))\n",
    "        \n",
    "        W = [w1,w2,w3,w4,w5,w6,w7,w8,w9]\n",
    "        \n",
    "    epoch_losses.append((loss/len(X)))"
   ]
  },
  {
   "cell_type": "code",
   "execution_count": 35,
   "metadata": {},
   "outputs": [
    {
     "data": {
      "text/plain": [
       "<function matplotlib.pyplot.show(*args, **kw)>"
      ]
     },
     "execution_count": 35,
     "metadata": {},
     "output_type": "execute_result"
    },
    {
     "data": {
      "image/png": "[encoded data removed]",
      "text/plain": [
       "<Figure size 432x288 with 1 Axes>"
      ]
     },
     "metadata": {
      "needs_background": "light"
     },
     "output_type": "display_data"
    }
   ],
   "source": [
    "# Plot between epochs and loss\n",
    "import matplotlib.pyplot as plt\n",
    "\n",
    "plt.grid()\n",
    "plt.plot(epochs,epoch_losses)\n",
    "plt.title(\"Epoch vs loss plot\")\n",
    "plt.xlabel(\"Epochs\")\n",
    "plt.ylabel(\"loss\")\n",
    "plt.show"
   ]
  },
  {
   "cell_type": "markdown",
   "metadata": {
    "colab_type": "text",
    "id": "V4RWWrZ7lWap"
   },
   "source": [
    "### <font color='green'>3. Implementing Adam Optimizer.</font>"
   ]
  },
  {
   "cell_type": "code",
   "execution_count": 20,
   "metadata": {},
   "outputs": [
    {
     "data": {
      "image/png": "[encoded data removed]",
      "text/plain": [
       "<Figure size 432x288 with 1 Axes>"
      ]
     },
     "metadata": {
      "needs_background": "light"
     },
     "output_type": "display_data"
    }
   ],
   "source": [
    "def Adam(X_data,y_data,learning_rate=0.001):\n",
    "    N = 9 #No of Weight parameters\n",
    "    w = initilize_randomly_gaussian(N)\n",
    "    epochs = list(range(0,100))\n",
    "    epoch_loss = np.zeros(len(epochs))\n",
    "    Beta1 = 0.9\n",
    "    Beta2 = 0.999\n",
    "    epsilon = 1e-7\n",
    "    for epoch in epochs:\n",
    "        # print(\"Epoch - \",epoch+1,\"/100\",end=\" \")\n",
    "        loss = 0\n",
    "        Mt = np.zeros(N)\n",
    "        Vt = np.zeros(N)\n",
    "        for t, (X,y) in enumerate(zip(X_data,y_data)):\n",
    "            dict_loss=forward_propagation(X,y,w)\n",
    "            dict_Weights=backward_propagation(X,w,dict_loss)\n",
    "            grad = gradients_to_vector(dict_Weights)\n",
    "            Mt = Beta1*Mt + (1-Beta1)*grad\n",
    "            Vt = Beta2*Vt + (1-Beta2)*np.square(grad)\n",
    "            Mt_hat = Mt /(1 - np.power(Beta1,t+1))\n",
    "            Vt_hat = Vt /(1 - np.power(Beta2,t+1))\n",
    "            w = w - learning_rate*Mt_hat/(np.sqrt(Vt_hat) + epsilon)\n",
    "            loss += np.square(dict_loss[\"loss\"])\n",
    "        epoch_loss[epoch] = loss/len(y_data)\n",
    "        # print(\"Loss - \",'%.4e' % MSEloss[epoch])\n",
    "    plt.xlabel(\"Epochs\")\n",
    "    plt.ylabel(\"Loss\")\n",
    "    plt.grid()\n",
    "    plt.title(\"Adam Optimizer : Epochs vs Loss\")\n",
    "    plt.plot(epochs,epoch_loss)\n",
    "    plt.legend([\"Loss\"])\n",
    "    return MSEloss\n",
    "\n",
    "Adam_loss = Adam(X,y)"
   ]
  },
  {
   "cell_type": "markdown",
   "metadata": {},
   "source": [
    "# Thanks For Coming..!!  :)"
   ]
  }
 ],
 "metadata": {
  "colab": {
   "collapsed_sections": [],
   "name": "Backpropagation assignment.ipynb",
   "provenance": []
  },
  "kernelspec": {
   "display_name": "Python 3",
   "language": "python",
   "name": "python3"
  },
  "language_info": {
   "codemirror_mode": {
    "name": "ipython",
    "version": 3
   },
   "file_extension": ".py",
   "mimetype": "text/x-python",
   "name": "python",
   "nbconvert_exporter": "python",
   "pygments_lexer": "ipython3",
   "version": "3.7.6"
  }
 },
 "nbformat": 4,
 "nbformat_minor": 1
}
